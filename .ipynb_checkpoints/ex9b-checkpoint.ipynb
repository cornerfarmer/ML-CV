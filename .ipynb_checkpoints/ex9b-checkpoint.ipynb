{
 "cells": [
  {
   "cell_type": "code",
   "execution_count": 1,
   "metadata": {
    "scrolled": false
   },
   "outputs": [],
   "source": [
    "import csv\n",
    "import numpy as np\n",
    "import matplotlib.pyplot as plt\n",
    "from scipy.stats import multivariate_normal\n",
    "from matplotlib.patches import Ellipse"
   ]
  },
  {
   "cell_type": "code",
   "execution_count": 2,
   "metadata": {},
   "outputs": [],
   "source": [
    "data = []\n",
    "with open('old_faithful.txt', 'r') as csvfile:\n",
    "    spamreader = csv.reader(csvfile, delimiter=' ', quotechar='|')\n",
    "    \n",
    "    key = 0\n",
    "    for row in spamreader:\n",
    "        if key > 0:\n",
    "            data.append([float(cell) for cell in row if cell != ''][1:])\n",
    "        key += 1\n",
    "data = np.array(data)\n",
    "data = (data - np.mean(data, 0)) / np.std(data, 0)"
   ]
  },
  {
   "cell_type": "code",
   "execution_count": 3,
   "metadata": {},
   "outputs": [],
   "source": [
    "K = 2"
   ]
  },
  {
   "cell_type": "code",
   "execution_count": 22,
   "metadata": {},
   "outputs": [],
   "source": [
    "pi = np.ones([K]) / K\n",
    "means = np.array(data[np.random.randint(0, len(data), [K])], dtype=np.float)\n",
    "cov = [np.eye(data.shape[1]) for i in range(K)]\n",
    "gamma = np.zeros([len(data), K])"
   ]
  },
  {
   "cell_type": "code",
   "execution_count": 61,
   "metadata": {},
   "outputs": [],
   "source": [
    "for n in range(len(data)):\n",
    "    for k in range(K):\n",
    "        gamma[n,k] = pi[k] * multivariate_normal.pdf(data[n], means[k], cov[k])\n",
    "loss = np.sum(np.log(np.sum(gamma, -1)))\n",
    "gamma /= np.expand_dims(gamma.sum(axis=-1), -1)"
   ]
  },
  {
   "cell_type": "code",
   "execution_count": 62,
   "metadata": {},
   "outputs": [],
   "source": [
    "for k in range(K):\n",
    "    means[k] = np.sum(np.expand_dims(gamma[:,k], -1) * data, axis=0) / np.sum(gamma[:,k])\n",
    "    \n",
    "    cov[k].fill(0)\n",
    "    for i in range(len(data)):\n",
    "        cov[k] += gamma[i,k] * np.outer(data[i] - means[k], data[i] - means[k])\n",
    "    cov[k] /= np.sum(gamma[:,k])\n",
    "    pi[k] = 1 / len(data) * np.sum(gamma[:,k])"
   ]
  },
  {
   "cell_type": "code",
   "execution_count": 63,
   "metadata": {},
   "outputs": [
    {
     "data": {
      "text/plain": [
       "-447.0791010093561"
      ]
     },
     "execution_count": 63,
     "metadata": {},
     "output_type": "execute_result"
    }
   ],
   "source": [
    "loss"
   ]
  },
  {
   "cell_type": "code",
   "execution_count": 64,
   "metadata": {},
   "outputs": [
    {
     "data": {
      "image/png": "[encoded data removed]",
      "text/plain": [
       "<matplotlib.figure.Figure at 0x7f14649cceb8>"
      ]
     },
     "metadata": {},
     "output_type": "display_data"
    }
   ],
   "source": [
    "fig = plt.figure(figsize=[7,7])\n",
    "ax = plt.axes()\n",
    "ax.set_ylim(-2,2)\n",
    "ax.set_xlim(-2,2)\n",
    "ax.plot(data[gamma[:,0] > gamma[:,1],0], data[gamma[:,0] > gamma[:,1],1], 'r+')\n",
    "ax.plot(data[gamma[:,0] <= gamma[:,1],0], data[gamma[:,0] <= gamma[:,1],1], 'g+')\n",
    "\n",
    "for i in range(K):\n",
    "    lmb, v = np.linalg.eig(cov[i])\n",
    "    lmb = np.sqrt(lmb)\n",
    "    ax.add_artist(Ellipse(means[i], lmb[0]*2, lmb[1]*2, angle=np.rad2deg(np.arccos(v[0, 0])), linewidth=2, fill=False))"
   ]
  },
  {
   "cell_type": "code",
   "execution_count": null,
   "metadata": {},
   "outputs": [],
   "source": []
  }
 ],
 "metadata": {
  "kernelspec": {
   "display_name": "Python 3",
   "language": "python",
   "name": "python3"
  },
  "language_info": {
   "codemirror_mode": {
    "name": "ipython",
    "version": 3
   },
   "file_extension": ".py",
   "mimetype": "text/x-python",
   "name": "python",
   "nbconvert_exporter": "python",
   "pygments_lexer": "ipython3",
   "version": "3.5.2"
  }
 },
 "nbformat": 4,
 "nbformat_minor": 2
}
