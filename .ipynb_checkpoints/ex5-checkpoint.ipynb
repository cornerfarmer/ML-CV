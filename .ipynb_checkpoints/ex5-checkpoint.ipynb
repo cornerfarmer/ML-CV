{
 "cells": [
  {
   "cell_type": "code",
   "execution_count": 1,
   "metadata": {},
   "outputs": [],
   "source": [
    "%matplotlib inline\n",
    "import matplotlib.pyplot as plt\n",
    "import numpy as np\n",
    "import matplotlib"
   ]
  },
  {
   "cell_type": "code",
   "execution_count": 2,
   "metadata": {},
   "outputs": [],
   "source": [
    "train_perc = 0.5\n",
    "M = 100\n",
    "stump_steps = 100"
   ]
  },
  {
   "cell_type": "code",
   "execution_count": 3,
   "metadata": {},
   "outputs": [],
   "source": [
    "X = np.genfromtxt('banknote_auth_data.csv', delimiter=',')\n",
    "t = np.genfromtxt('banknote_auth_labels.csv', delimiter=',') * 2 - 1\n",
    "indx = np.random.permutation(X.shape[0])\n",
    "X = X[indx]\n",
    "t = t[indx]\n",
    "val_indx = (int)(X.shape[0] * train_perc)\n",
    "X_train = X[:val_indx]\n",
    "t_train = t[:val_indx]\n",
    "X_val = X[val_indx:]\n",
    "t_val = t[val_indx:]"
   ]
  },
  {
   "cell_type": "code",
   "execution_count": 60,
   "metadata": {},
   "outputs": [],
   "source": [
    "class DecStump:\n",
    "    def __init__(self):\n",
    "        self.theta = 0\n",
    "        self.dim = 0\n",
    "        self.sgn = 1\n",
    "        \n",
    "    def fit(self, X, t, weights, test_func, features_to_use=0):\n",
    "        best_err = 0\n",
    "        best_param = None\n",
    "        test_func = self.test_exp if test_func == 'exp' else self.test_logit\n",
    "        \n",
    "        if features_to_use > 0:\n",
    "            dimensions = np.random.choice(X.shape[1], features_to_use)\n",
    "        else:\n",
    "            dimensions = range(X.shape[1])\n",
    "        \n",
    "        for sgn in [-1, 1]:\n",
    "            self.sgn = sgn\n",
    "            for d in dimensions:\n",
    "                self.dim = d\n",
    "                if X[:,d].min() < X[:,d].max():\n",
    "                    steps = np.arange(X[:,d].min(), X[:,d].max(), (X[:,d].max() - X[:,d].min()) / stump_steps)\n",
    "                else:\n",
    "                    steps = [X[:,d].min()]\n",
    "                for s in steps:\n",
    "                    self.theta = s\n",
    "                    err = test_func(X, t, weights)\n",
    "                    if best_param is None or best_err > err:\n",
    "                        best_param = self.dim, self.theta, self.sgn\n",
    "                        best_err = err\n",
    "\n",
    "        self.dim, self.theta, self.sgn = best_param\n",
    "        return best_err\n",
    "        \n",
    "    def predict(self, X):\n",
    "        return (X[:, self.dim] * self.sgn >= self.theta * self.sgn).astype(int) * 2 - 1           \n",
    "    \n",
    "    def test_exp(self, X, t, weights):\n",
    "        if weights is None:\n",
    "            weights = np.full(t.shape, 1 / t.shape[0])\n",
    "        y = self.predict(X)\n",
    "        return np.sum((y != t) * weights) / np.sum(weights)\n",
    "    \n",
    "    def test_logit(self, X, z, weights):\n",
    "        if weights is None:\n",
    "            weights = np.full(t.shape, 1 / t.shape[0])\n",
    "        y = self.predict(X)\n",
    "        return np.sum(weights * ((z - y) ** 2))"
   ]
  },
  {
   "cell_type": "code",
   "execution_count": 63,
   "metadata": {},
   "outputs": [],
   "source": [
    "class DecTree:\n",
    "    def __init__(self):\n",
    "        self.left = None\n",
    "        self.right = None\n",
    "        self.stump = DecStump()\n",
    "\n",
    "    def fit(self, X, t, weights, test_func, features_to_use, layers=4):\n",
    "        self.stump.fit(X, t, weights, test_func, features_to_use)\n",
    "        \n",
    "        if layers > 0:\n",
    "            y = self.stump.predict(X)\n",
    "            if X[y >= 0].shape[0] > 1 and X[y >= 0].max():\n",
    "                self.left = DecTree()\n",
    "                self.left.fit(X[y >= 0], t[y >= 0], weights, test_func, features_to_use, layers - 1)\n",
    "            \n",
    "            if X[y < 0].shape[0] > 1 and X[y < 0].max():\n",
    "                self.right = DecTree()\n",
    "                self.right.fit(X[y < 0], t[y < 0], weights, test_func, features_to_use, layers - 1)\n",
    "    \n",
    "    def predict(self, X):\n",
    "        y = self.stump.predict(X)\n",
    "        \n",
    "        y_res = np.zeros_like(y)\n",
    "        if self.left is not None:\n",
    "            y_res[y >= 0] = self.left.predict(X[y >= 0])\n",
    "        else:\n",
    "            y_res[y >= 0] = y[y >= 0]\n",
    "            \n",
    "        if self.right is not None:\n",
    "            y_res[y < 0] = self.right.predict(X[y < 0])\n",
    "        else:\n",
    "            y_res[y < 0] = y[y < 0]\n",
    "                    \n",
    "        return y_res\n",
    "    "
   ]
  },
  {
   "cell_type": "code",
   "execution_count": 42,
   "metadata": {},
   "outputs": [],
   "source": [
    "class AdaBoost:\n",
    "    def __init__(self):\n",
    "        self.classifiers = []\n",
    "        self.alpha = []\n",
    "        \n",
    "    def fit(self, X_train, t_train, X_val, t_val, classifier_class):\n",
    "        self.classifiers = []\n",
    "        self.alpha = []        \n",
    "        weights = np.full(t_train.shape, 1 / t_train.shape[0])\n",
    "        \n",
    "        errors = []\n",
    "        \n",
    "        for m in range(M):\n",
    "            self.classifiers.append(classifier_class())\n",
    "            \n",
    "            err = self.classifiers[-1].fit(X_train, t_train, weights, 'exp')\n",
    "            self.alpha.append(np.log((1 - err) / err))\n",
    "            \n",
    "            y = self.classifiers[-1].predict(X_train)\n",
    "            weights = weights * np.exp(self.alpha[-1] * (y != t_train))\n",
    "            \n",
    "            errors.append(self.test(X_val, t_val))\n",
    "            \n",
    "        return errors\n",
    "            \n",
    "    def predict(self, X):\n",
    "        y_res = np.zeros([X.shape[0]])\n",
    "        for m in range(len(self.classifiers)):\n",
    "            y_res += self.alpha[m] * self.classifiers[m].predict(X)\n",
    "        return (y_res > 0).astype(int) * 2 - 1\n",
    "            \n",
    "    def test(self, X, t):\n",
    "        y = self.predict(X)\n",
    "        return np.sum(y != t) / X.shape[0]"
   ]
  },
  {
   "cell_type": "code",
   "execution_count": 43,
   "metadata": {},
   "outputs": [],
   "source": [
    "class LogitBoost:\n",
    "    def __init__(self):\n",
    "        self.classifiers = []\n",
    "        \n",
    "    def fit(self, X_train, t_train, X_val, t_val, classifier_class):\n",
    "        self.classifiers = []\n",
    "        pi = np.full(t_train.shape, 0.5)\n",
    "        y = np.full(t_train.shape, 0.0)\n",
    "        \n",
    "        errors = []\n",
    "        \n",
    "        for m in range(M):\n",
    "            weights = pi * (1 - pi)\n",
    "            z = ((t_train + 1) / 2 - pi) / weights\n",
    "            \n",
    "            #z_nans = np.isnan(z) | np.isinf(z)\n",
    "            #z[z_nans] = t_train[z_nans]\n",
    "            \n",
    "            self.classifiers.append(classifier_class())\n",
    "            self.classifiers[-1].fit(X_train, z, weights, 'logit')\n",
    "            \n",
    "            y += 0.5 * self.classifiers[-1].predict(X_train)\n",
    "            pi = 1 / (1 + np.exp(-2 * y))\n",
    "            \n",
    "            errors.append(self.test(X_train, t_train))\n",
    "            \n",
    "        return errors\n",
    "    \n",
    "    def predict(self, X):\n",
    "        y_res = np.zeros([X.shape[0]])\n",
    "        for m in range(len(self.classifiers)):\n",
    "            y_res += self.classifiers[m].predict(X)\n",
    "        return (y_res > 0).astype(int) * 2 - 1          \n",
    "            \n",
    "    def test(self, X, t):\n",
    "        y = self.predict(X)\n",
    "        return np.sum(y != t) / X.shape[0]"
   ]
  },
  {
   "cell_type": "code",
   "execution_count": 66,
   "metadata": {},
   "outputs": [],
   "source": [
    "class Bagging:\n",
    "    def __init__(self):\n",
    "        self.classifiers = []\n",
    "        \n",
    "    def fit(self, X_train, t_train, X_val, t_val, classifier_class):\n",
    "        errors = []\n",
    "        \n",
    "        for i in range(M):\n",
    "            indx = np.random.choice(X_train.shape[0], int(X_train.shape[0] * 0.3))\n",
    "            X_set = X_train[indx]\n",
    "            t_set = t_train[indx]\n",
    "            \n",
    "            self.classifiers.append(classifier_class())\n",
    "            err = self.classifiers[-1].fit(X_set, t_set, None, 'exp', 2)\n",
    "            \n",
    "            errors.append(self.test(X_train, t_train))\n",
    "            \n",
    "        return errors\n",
    "            \n",
    "    def predict(self, X):\n",
    "        y_res = np.zeros([X.shape[0]])\n",
    "        for m in range(len(self.classifiers)):\n",
    "            y_res += self.classifiers[m].predict(X)\n",
    "        return (y_res > 0).astype(int) * 2 - 1 \n",
    "    \n",
    "    def test(self, X, t):\n",
    "        y = self.predict(X)\n",
    "        return np.sum(y != t) / X.shape[0]"
   ]
  },
  {
   "cell_type": "code",
   "execution_count": 69,
   "metadata": {},
   "outputs": [],
   "source": [
    "ada_boost = AdaBoost()\n",
    "ada_errors = ada_boost.fit(X_train, t_train, X_val, t_val, DecStump)"
   ]
  },
  {
   "cell_type": "code",
   "execution_count": 70,
   "metadata": {},
   "outputs": [],
   "source": [
    "logit_boost = LogitBoost()\n",
    "logit_errors = logit_boost.fit(X_train, t_train, X_val, t_val, DecStump)"
   ]
  },
  {
   "cell_type": "code",
   "execution_count": 71,
   "metadata": {},
   "outputs": [],
   "source": [
    "bagging = Bagging()\n",
    "bagging_errors = bagging.fit(X_train, t_train, X_val, t_val, DecStump)"
   ]
  },
  {
   "cell_type": "code",
   "execution_count": 72,
   "metadata": {},
   "outputs": [
    {
     "data": {
      "text/plain": [
       "[<matplotlib.lines.Line2D at 0x7f9d24d33208>]"
      ]
     },
     "execution_count": 72,
     "metadata": {},
     "output_type": "execute_result"
    },
    {
     "data": {
      "image/png": "[encoded data removed]",
      "text/plain": [
       "<matplotlib.figure.Figure at 0x7f9d24e7e5f8>"
      ]
     },
     "metadata": {},
     "output_type": "display_data"
    }
   ],
   "source": [
    "fig = plt.figure()\n",
    "ax = plt.axes()\n",
    "\n",
    "ax.plot(np.arange(len(ada_errors)), ada_errors)\n",
    "ax.plot(np.arange(len(logit_errors)), logit_errors)\n",
    "ax.plot(np.arange(len(bagging_errors)), bagging_errors )"
   ]
  },
  {
   "cell_type": "code",
   "execution_count": 13,
   "metadata": {},
   "outputs": [
    {
     "data": {
      "text/plain": [
       "(0.1543026706231454, 0.0)"
      ]
     },
     "execution_count": 13,
     "metadata": {},
     "output_type": "execute_result"
    }
   ],
   "source": [
    "np.min(ada_errors), np.min(logit_errors)"
   ]
  },
  {
   "cell_type": "code",
   "execution_count": 67,
   "metadata": {},
   "outputs": [],
   "source": [
    "bagging = Bagging()\n",
    "bagging_errors = bagging.fit(X_train, t_train, X_val, t_val, DecTree)"
   ]
  },
  {
   "cell_type": "code",
   "execution_count": 68,
   "metadata": {},
   "outputs": [
    {
     "data": {
      "text/plain": [
       "[<matplotlib.lines.Line2D at 0x7f9d24cf38d0>]"
      ]
     },
     "execution_count": 68,
     "metadata": {},
     "output_type": "execute_result"
    },
    {
     "data": {
      "image/png": "[encoded data removed]",
      "text/plain": [
       "<matplotlib.figure.Figure at 0x7f9d24cf3208>"
      ]
     },
     "metadata": {},
     "output_type": "display_data"
    }
   ],
   "source": [
    "fig = plt.figure()\n",
    "ax = plt.axes()\n",
    "\n",
    "#ax.plot(np.arange(len(ada_errors)), ada_errors)\n",
    "#ax.plot(np.arange(len(logit_errors)), logit_errors)\n",
    "ax.plot(np.arange(len(bagging_errors)), bagging_errors)"
   ]
  },
  {
   "cell_type": "code",
   "execution_count": null,
   "metadata": {},
   "outputs": [],
   "source": []
  },
  {
   "cell_type": "code",
   "execution_count": null,
   "metadata": {},
   "outputs": [],
   "source": []
  }
 ],
 "metadata": {
  "kernelspec": {
   "display_name": "Python 3",
   "language": "python",
   "name": "python3"
  },
  "language_info": {
   "codemirror_mode": {
    "name": "ipython",
    "version": 3
   },
   "file_extension": ".py",
   "mimetype": "text/x-python",
   "name": "python",
   "nbconvert_exporter": "python",
   "pygments_lexer": "ipython3",
   "version": "3.5.2"
  }
 },
 "nbformat": 4,
 "nbformat_minor": 2
}
