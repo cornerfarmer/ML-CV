{
 "cells": [
  {
   "cell_type": "code",
   "execution_count": 1,
   "metadata": {},
   "outputs": [],
   "source": [
    "%matplotlib inline\n",
    "import matplotlib.pyplot as plt\n",
    "import numpy as np\n",
    "import matplotlib"
   ]
  },
  {
   "cell_type": "code",
   "execution_count": 2,
   "metadata": {},
   "outputs": [],
   "source": [
    "train_perc = 0.5\n",
    "M = 100\n",
    "stump_steps = 100"
   ]
  },
  {
   "cell_type": "code",
   "execution_count": 3,
   "metadata": {},
   "outputs": [],
   "source": [
    "X = np.genfromtxt('banknote_auth_data.csv', delimiter=',')\n",
    "t = np.genfromtxt('banknote_auth_labels.csv', delimiter=',') * 2 - 1\n",
    "indx = np.random.permutation(X.shape[0])\n",
    "X = X[indx]\n",
    "t = t[indx]\n",
    "val_indx = (int)(X.shape[0] * train_perc)\n",
    "X_train = X[:val_indx]\n",
    "t_train = t[:val_indx]\n",
    "X_val = X[val_indx:]\n",
    "t_val = t[val_indx:]"
   ]
  },
  {
   "cell_type": "code",
   "execution_count": 4,
   "metadata": {},
   "outputs": [],
   "source": [
    "class DecStump:\n",
    "    def __init__(self):\n",
    "        self.theta = 0\n",
    "        self.dim = 0\n",
    "        self.sgn = 1\n",
    "        \n",
    "    def fit(self, X, t, weights, test_func):\n",
    "        best_err = 0\n",
    "        best_param = None\n",
    "        \n",
    "        for sgn in [-1, 1]:\n",
    "            self.sgn = sgn\n",
    "            for d in range(X.shape[1]):\n",
    "                self.dim = d\n",
    "                for s in np.arange(X[:,d].min(), X[:,d].max(), (X[:,d].max() - X[:,d].min()) / stump_steps):\n",
    "                    self.theta = s\n",
    "                    err = test_func(X, t, weights)\n",
    "                    if best_param is None or best_err > err:\n",
    "                        best_param = self.dim, self.theta, self.sgn\n",
    "                        best_err = err\n",
    "        \n",
    "        self.dim, self.theta, self.sgn = best_param\n",
    "        return best_err\n",
    "        \n",
    "    def predict(self, X):\n",
    "        return (X[:, self.dim] * self.sgn > self.theta * self.sgn).astype(int) * 2 - 1           \n",
    "    \n",
    "    def test_exp(self, X, t, weights):\n",
    "        y = self.predict(X)\n",
    "        return np.sum((y != t) * weights) / np.sum(weights)\n",
    "    \n",
    "    def test_logit(self, X, z, weights):\n",
    "        y = self.predict(X)\n",
    "        return np.sum(weights * ((z - y) ** 2))"
   ]
  },
  {
   "cell_type": "code",
   "execution_count": 5,
   "metadata": {},
   "outputs": [],
   "source": [
    "class AdaBoost:\n",
    "    def __init__(self):\n",
    "        self.classifiers = []\n",
    "        self.alpha = []\n",
    "        \n",
    "    def fit(self, X_train, t_train, X_val, t_val, classifier_class):\n",
    "        self.classifiers = []\n",
    "        self.alpha = []        \n",
    "        weights = np.full(t_train.shape, 1 / t_train.shape[0])\n",
    "        \n",
    "        errors = []\n",
    "        \n",
    "        for m in range(M):\n",
    "            self.classifiers.append(classifier_class())\n",
    "            \n",
    "            err = self.classifiers[-1].fit(X_train, t_train, weights, self.classifiers[-1].test_exp)\n",
    "            self.alpha.append(np.log((1 - err) / err))\n",
    "            \n",
    "            y = self.classifiers[-1].predict(X_train)\n",
    "            weights = weights * np.exp(self.alpha[-1] * (y != t_train))\n",
    "            \n",
    "            errors.append(self.test(X_val, t_val))\n",
    "            \n",
    "        return errors\n",
    "            \n",
    "    def predict(self, X):\n",
    "        y_res = np.zeros([X.shape[0]])\n",
    "        for m in range(len(self.classifiers)):\n",
    "            y_res += self.alpha[m] * self.classifiers[m].predict(X)\n",
    "        return (y_res > 0).astype(int) * 2 - 1\n",
    "            \n",
    "    def test(self, X, t):\n",
    "        y = self.predict(X)\n",
    "        return np.sum(y != t) / X.shape[0]"
   ]
  },
  {
   "cell_type": "code",
   "execution_count": 8,
   "metadata": {},
   "outputs": [],
   "source": [
    "class LogitBoost:\n",
    "    def __init__(self):\n",
    "        self.classifiers = []\n",
    "        \n",
    "    def fit(self, X_train, t_train, X_val, t_val, classifier_class):\n",
    "        self.classifiers = []\n",
    "        pi = np.full(t_train.shape, 0.5)\n",
    "        y = np.full(t_train.shape, 0.0)\n",
    "        \n",
    "        errors = []\n",
    "        \n",
    "        for m in range(100):\n",
    "            weights = pi * (1 - pi)\n",
    "            z = ((t_train + 1) / 2 - pi) / weights\n",
    "            \n",
    "            #z_nans = np.isnan(z) | np.isinf(z)\n",
    "            #z[z_nans] = t_train[z_nans]\n",
    "            \n",
    "            self.classifiers.append(classifier_class())\n",
    "            self.classifiers[-1].fit(X_train, z, weights, self.classifiers[-1].test_logit)\n",
    "            \n",
    "            y += 0.5 * self.classifiers[-1].predict(X_train)\n",
    "            pi = 1 / (1 + np.exp(-2 * y))\n",
    "            \n",
    "            errors.append(self.test(X_train, t_train))\n",
    "            \n",
    "        return errors\n",
    "    \n",
    "    def predict(self, X):\n",
    "        y_res = np.zeros([X.shape[0]])\n",
    "        for m in range(len(self.classifiers)):\n",
    "            y_res += self.classifiers[m].predict(X)\n",
    "        return (y_res > 0).astype(int) * 2 - 1          \n",
    "            \n",
    "    def test(self, X, t):\n",
    "        y = self.predict(X)\n",
    "        return np.sum(y != t) / X.shape[0]"
   ]
  },
  {
   "cell_type": "code",
   "execution_count": 9,
   "metadata": {},
   "outputs": [],
   "source": [
    "ada_boost = AdaBoost()\n",
    "ada_errors = ada_boost.fit(X_train, t_train, X_val, t_val, DecStump)"
   ]
  },
  {
   "cell_type": "code",
   "execution_count": 10,
   "metadata": {},
   "outputs": [],
   "source": [
    "logit_boost = LogitBoost()\n",
    "logit_errors = logit_boost.fit(X_train, t_train, X_val, t_val, DecStump)"
   ]
  },
  {
   "cell_type": "code",
   "execution_count": 11,
   "metadata": {},
   "outputs": [
    {
     "data": {
      "text/plain": [
       "[<matplotlib.lines.Line2D at 0x7fbdad4fbb38>]"
      ]
     },
     "execution_count": 11,
     "metadata": {},
     "output_type": "execute_result"
    },
    {
     "data": {
      "image/png": "[encoded data removed]",
      "text/plain": [
       "<matplotlib.figure.Figure at 0x7fbdad5746d8>"
      ]
     },
     "metadata": {},
     "output_type": "display_data"
    }
   ],
   "source": [
    "fig = plt.figure()\n",
    "ax = plt.axes()\n",
    "\n",
    "ax.plot(np.arange(len(ada_errors)), ada_errors)\n",
    "ax.plot(np.arange(len(logit_errors)), logit_errors)"
   ]
  },
  {
   "cell_type": "code",
   "execution_count": 14,
   "metadata": {},
   "outputs": [
    {
     "data": {
      "text/plain": [
       "(0.008902077151335312, 0.0)"
      ]
     },
     "execution_count": 14,
     "metadata": {},
     "output_type": "execute_result"
    }
   ],
   "source": [
    "np.min(ada_errors), np.min(logit_errors)"
   ]
  },
  {
   "cell_type": "code",
   "execution_count": null,
   "metadata": {},
   "outputs": [],
   "source": []
  }
 ],
 "metadata": {
  "kernelspec": {
   "display_name": "Python 3",
   "language": "python",
   "name": "python3"
  },
  "language_info": {
   "codemirror_mode": {
    "name": "ipython",
    "version": 3
   },
   "file_extension": ".py",
   "mimetype": "text/x-python",
   "name": "python",
   "nbconvert_exporter": "python",
   "pygments_lexer": "ipython3",
   "version": "3.6.3"
  }
 },
 "nbformat": 4,
 "nbformat_minor": 2
}
