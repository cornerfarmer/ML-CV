{
 "cells": [
  {
   "cell_type": "code",
   "execution_count": 1,
   "metadata": {},
   "outputs": [],
   "source": [
    "import numpy as np\n",
    "RED, GREEN, BLUE = 0, 1, 2"
   ]
  },
  {
   "cell_type": "code",
   "execution_count": 64,
   "metadata": {},
   "outputs": [],
   "source": [
    "class HMM:\n",
    "    def __init__(self):\n",
    "        self.states = [(x,y)  for y in range(3) for x in range(3)]\n",
    "        self.state_colors = np.array([GREEN, RED, BLUE, RED, BLUE, GREEN, BLUE, GREEN, RED])\n",
    "        self.obs_prob = np.array([[0.8, 0.1, 0.1], [0.1, 0.6, 0.2], [0.1, 0.3, 0.7]])\n",
    "        self.trans = np.array([\n",
    "            [0.5, 0.25, 0, 0.25, 0, 0, 0, 0, 0],\n",
    "            [0.25, 0.25, 0.25, 0, 0.25, 0, 0, 0, 0],\n",
    "            [0, 0.25, 0.5, 0, 0, 0.25, 0, 0, 0],\n",
    "            [0.25, 0, 0, 0.25, 0.25, 0, 0.25, 0, 0],\n",
    "            [0, 0.25, 0, 0.25, 0, 0.25, 0, 0.25, 0],\n",
    "            [0, 0, 0.25, 0, 0.25, 0.25, 0, 0, 0.25],\n",
    "            [0, 0, 0, 0.25, 0, 0, 0.5, 0.25, 0],\n",
    "            [0, 0, 0, 0, 0.25, 0, 0.25, 0.25, 0.25],\n",
    "            [0, 0, 0, 0, 0, 0.25, 0, 0.25, 0.5],\n",
    "        ])\n",
    "        self.initial = np.array([1 / len(self.states)] * len(self.states))\n",
    "        \n",
    "    def viterbi(self, obs):\n",
    "        delta = self.initial * self.obs_prob[self.state_colors, obs[0]]\n",
    "        psis = []\n",
    "\n",
    "        for i in range(1, len(obs)):\n",
    "            psis.append(np.argmax(self.trans * delta, axis=-1))\n",
    "            delta = self.obs_prob[self.state_colors, obs[i]] * np.max(self.trans * delta, axis=-1)\n",
    "\n",
    "        p = np.max(delta)\n",
    "        x = [np.argmax(delta)]\n",
    "        for psi in reversed(psis):\n",
    "            x.insert(0, psi[x[0]])\n",
    "\n",
    "        return p, x\n",
    "    \n",
    "    def alpha(self, obs):\n",
    "        alpha = self.initial * self.obs_prob[self.state_colors, obs[0]]\n",
    "        \n",
    "        for i in range(1, len(obs)):\n",
    "            alpha = self.obs_prob[self.state_colors, obs[i]] * np.sum(self.trans * alpha, axis=-1)\n",
    "            \n",
    "        return alpha\n",
    "        \n",
    "    def forward(self, obs):\n",
    "        return np.sum(self.alpha(obs))\n",
    "    \n",
    "    def filtering(self, obs):\n",
    "        alpha = self.alpha(obs)\n",
    "        return alpha / np.sum(self.alpha(obs))\n",
    "        \n",
    "    def beta(self, obs):\n",
    "        beta = self.initial\n",
    "        \n",
    "        for i in reversed(range(-1, len(obs) - 1)):\n",
    "            beta = np.sum(self.trans * (self.obs_prob[self.state_colors, obs[i + 1]] * beta), axis=0)\n",
    "            \n",
    "        return beta\n",
    "        \n",
    "    def smoothing(self, obs, index):\n",
    "        alpha = self.alpha(obs[:index + 1])\n",
    "        beta = self.beta(obs[index + 1:])\n",
    "        return alpha * beta / np.sum(alpha * beta)\n",
    "    \n",
    "    def gamma(self, obs, index):\n",
    "        return self.alpha(obs[:index + 1]) * self.beta(obs[index + 1:]) / self.forward(obs)\n",
    "    \n",
    "    def xi(self, obs, index):\n",
    "        return self.alpha(obs[:index + 1]) * self.trans * self.obs_prob[self.state_colors, obs[index + 1]] * self.beta(obs[index + 2:])  / self.forward(obs)\n",
    "    \n",
    "    def baum_welsh(self, obs):\n",
    "        \n",
    "        gamma = np.array([self.gamma(obs, i) for i in range(len(obs))])\n",
    "        xi = np.array([self.xi(obs, i) for i in range(len(obs) - 1)])\n",
    "        \n",
    "        self.initial = gamma[0]\n",
    "        self.trans = np.sum(xi, axis=0) / np.sum(gamma, axis=0)\n",
    "        "
   ]
  },
  {
   "cell_type": "code",
   "execution_count": 90,
   "metadata": {},
   "outputs": [],
   "source": [
    "hmm = HMM()"
   ]
  },
  {
   "cell_type": "code",
   "execution_count": 91,
   "metadata": {},
   "outputs": [
    {
     "data": {
      "text/plain": [
       "(6.400000000000001e-05, [8, 5, 5, 8, 8, 8])"
      ]
     },
     "execution_count": 91,
     "metadata": {},
     "output_type": "execute_result"
    }
   ],
   "source": [
    "hmm.viterbi(np.array([RED, GREEN, GREEN, RED, RED, RED]))"
   ]
  },
  {
   "cell_type": "code",
   "execution_count": 92,
   "metadata": {},
   "outputs": [
    {
     "data": {
      "text/plain": [
       "array([0.03333333, 0.26666667, 0.03333333, 0.26666667, 0.03333333,\n",
       "       0.03333333, 0.03333333, 0.03333333, 0.26666667])"
      ]
     },
     "execution_count": 92,
     "metadata": {},
     "output_type": "execute_result"
    }
   ],
   "source": [
    "hmm.filtering(np.array([RED]))"
   ]
  },
  {
   "cell_type": "code",
   "execution_count": 93,
   "metadata": {},
   "outputs": [
    {
     "data": {
      "text/plain": [
       "array([0.11764706, 0.15686275, 0.05882353, 0.15686275, 0.05882353,\n",
       "       0.11764706, 0.05882353, 0.11764706, 0.15686275])"
      ]
     },
     "execution_count": 93,
     "metadata": {},
     "output_type": "execute_result"
    }
   ],
   "source": [
    "hmm.smoothing(np.array([RED, GREEN]), 0)"
   ]
  },
  {
   "cell_type": "code",
   "execution_count": 94,
   "metadata": {},
   "outputs": [
    {
     "data": {
      "text/plain": [
       "0.01432118055555556"
      ]
     },
     "execution_count": 94,
     "metadata": {},
     "output_type": "execute_result"
    }
   ],
   "source": [
    "hmm.forward(np.array([RED, RED, RED, RED]))"
   ]
  },
  {
   "cell_type": "code",
   "execution_count": 103,
   "metadata": {},
   "outputs": [],
   "source": [
    "hmm.baum_welsh(np.array([RED, RED, RED, RED]))"
   ]
  },
  {
   "cell_type": "code",
   "execution_count": 104,
   "metadata": {},
   "outputs": [
    {
     "data": {
      "text/plain": [
       "26.481912946503698"
      ]
     },
     "execution_count": 104,
     "metadata": {},
     "output_type": "execute_result"
    }
   ],
   "source": [
    "hmm.forward(np.array([RED, RED, RED, RED]))"
   ]
  },
  {
   "cell_type": "code",
   "execution_count": 106,
   "metadata": {},
   "outputs": [
    {
     "data": {
      "text/plain": [
       "array([[7.73762985e-03, 2.46948782e-01, 0.00000000e+00, 2.46948782e-01,\n",
       "        0.00000000e+00, 0.00000000e+00, 0.00000000e+00, 0.00000000e+00,\n",
       "        0.00000000e+00],\n",
       "       [3.86881493e-03, 2.46948782e-01, 3.84651336e-03, 0.00000000e+00,\n",
       "        3.70791800e-03, 0.00000000e+00, 0.00000000e+00, 0.00000000e+00,\n",
       "        0.00000000e+00],\n",
       "       [0.00000000e+00, 2.46948782e-01, 7.69302672e-03, 0.00000000e+00,\n",
       "        0.00000000e+00, 3.31839061e-04, 0.00000000e+00, 0.00000000e+00,\n",
       "        0.00000000e+00],\n",
       "       [3.86881493e-03, 0.00000000e+00, 0.00000000e+00, 2.46948782e-01,\n",
       "        3.70791800e-03, 0.00000000e+00, 3.84651336e-03, 0.00000000e+00,\n",
       "        0.00000000e+00],\n",
       "       [0.00000000e+00, 2.46948782e-01, 0.00000000e+00, 2.46948782e-01,\n",
       "        0.00000000e+00, 3.31839061e-04, 0.00000000e+00, 3.31839061e-04,\n",
       "        0.00000000e+00],\n",
       "       [0.00000000e+00, 0.00000000e+00, 3.84651336e-03, 0.00000000e+00,\n",
       "        3.70791800e-03, 3.31839061e-04, 0.00000000e+00, 0.00000000e+00,\n",
       "        2.33323729e-01],\n",
       "       [0.00000000e+00, 0.00000000e+00, 0.00000000e+00, 2.46948782e-01,\n",
       "        0.00000000e+00, 0.00000000e+00, 7.69302672e-03, 3.31839061e-04,\n",
       "        0.00000000e+00],\n",
       "       [0.00000000e+00, 0.00000000e+00, 0.00000000e+00, 0.00000000e+00,\n",
       "        3.70791800e-03, 0.00000000e+00, 3.84651336e-03, 3.31839061e-04,\n",
       "        2.33323729e-01],\n",
       "       [0.00000000e+00, 0.00000000e+00, 0.00000000e+00, 0.00000000e+00,\n",
       "        0.00000000e+00, 3.31839061e-04, 0.00000000e+00, 3.31839061e-04,\n",
       "        4.66647458e-01]])"
      ]
     },
     "execution_count": 106,
     "metadata": {},
     "output_type": "execute_result"
    }
   ],
   "source": [
    "hmm.trans"
   ]
  },
  {
   "cell_type": "code",
   "execution_count": null,
   "metadata": {},
   "outputs": [],
   "source": []
  }
 ],
 "metadata": {
  "kernelspec": {
   "display_name": "Python 3",
   "language": "python",
   "name": "python3"
  },
  "language_info": {
   "codemirror_mode": {
    "name": "ipython",
    "version": 3
   },
   "file_extension": ".py",
   "mimetype": "text/x-python",
   "name": "python",
   "nbconvert_exporter": "python",
   "pygments_lexer": "ipython3",
   "version": "3.6.5"
  }
 },
 "nbformat": 4,
 "nbformat_minor": 2
}
