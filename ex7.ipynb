{
 "cells": [
  {
   "cell_type": "code",
   "execution_count": 265,
   "metadata": {},
   "outputs": [],
   "source": [
    "import numpy as np\n",
    "import IPython\n",
    "import matplotlib.pyplot as plt\n",
    "RED, GREEN, BLUE = 0, 1, 2"
   ]
  },
  {
   "cell_type": "code",
   "execution_count": 266,
   "metadata": {},
   "outputs": [],
   "source": [
    "class HMM:\n",
    "    def __init__(self):\n",
    "        self.states = [(x,y)  for y in range(3) for x in range(3)]\n",
    "        self.state_colors = np.array([GREEN, RED, BLUE, RED, BLUE, GREEN, BLUE, GREEN, RED])\n",
    "        self.obs_prob = np.array([[0.8, 0.1, 0.1], [0.1, 0.6, 0.3], [0.1, 0.2, 0.7]])[self.state_colors]\n",
    "        #self.obs_prob = np.array([[1, 0, 0], [1, 0, 0], [1, 0, 0]])[self.state_colors]\n",
    "        self.trans = np.array([\n",
    "            [0.5, 0.25, 0, 0.25, 0, 0, 0, 0, 0],\n",
    "            [0.25, 0.25, 0.25, 0, 0.25, 0, 0, 0, 0],\n",
    "            [0, 0.25, 0.5, 0, 0, 0.25, 0, 0, 0],\n",
    "            [0.25, 0, 0, 0.25, 0.25, 0, 0.25, 0, 0],\n",
    "            [0, 0.25, 0, 0.25, 0, 0.25, 0, 0.25, 0],\n",
    "            [0, 0, 0.25, 0, 0.25, 0.25, 0, 0, 0.25],\n",
    "            [0, 0, 0, 0.25, 0, 0, 0.5, 0.25, 0],\n",
    "            [0, 0, 0, 0, 0.25, 0, 0.25, 0.25, 0.25],\n",
    "            [0, 0, 0, 0, 0, 0.25, 0, 0.25, 0.5],\n",
    "        ])\n",
    "        self.trans = np.ones([9, 9]) * 1/9\n",
    "        self.initial = np.array([1 / len(self.states)] * len(self.states))\n",
    "        \n",
    "    def delta(self, obs):\n",
    "        delta = [self.initial * self.obs_prob[:, obs[0]]]\n",
    "        psis = []\n",
    "\n",
    "        for i in range(1, len(obs)):\n",
    "            psis.append(np.argmax(np.transpose(self.trans) * delta[-1], axis=-1))\n",
    "            delta.append(self.obs_prob[:, obs[i]] * np.max(np.transpose(self.trans) * delta[-1], axis=-1))\n",
    "        \n",
    "        return np.array(delta), psis\n",
    "        \n",
    "    def viterbi(self, obs):\n",
    "        delta, psis = self.delta(obs)\n",
    "\n",
    "        p = np.max(delta[-1])\n",
    "        x = [np.argmax(delta[-1])]\n",
    "        for psi in reversed(psis):\n",
    "            x.insert(0, psi[x[0]])\n",
    "\n",
    "        return p, x\n",
    "    \n",
    "    def alpha(self, obs):\n",
    "        alpha = self.initial * self.obs_prob[:, obs[0]]\n",
    "        \n",
    "        for i in range(1, len(obs)):\n",
    "            alpha = self.obs_prob[:, obs[i]] * np.sum(np.transpose(self.trans) * alpha, axis=-1)\n",
    "            \n",
    "        return alpha\n",
    "        \n",
    "    def forward(self, obs):\n",
    "        return np.sum(self.alpha(obs))\n",
    "    \n",
    "    def filtering(self, obs):\n",
    "        alpha = self.alpha(obs)\n",
    "        return alpha / np.sum(self.alpha(obs))\n",
    "        \n",
    "    def beta(self, obs):\n",
    "        beta = np.array([1 / len(self.states)] * len(self.states))\n",
    "        \n",
    "        for i in reversed(range(-1, len(obs) - 1)):\n",
    "            beta = np.sum(np.transpose(self.trans) * (self.obs_prob[:, obs[i + 1]] * beta), axis=0)\n",
    "            \n",
    "        return beta\n",
    "        \n",
    "    def smoothing(self, obs, index):\n",
    "        alpha = self.alpha(obs[:index + 1])\n",
    "        beta = self.beta(obs[index + 1:])\n",
    "        return alpha * beta / np.sum(alpha * beta)\n",
    "    \n",
    "    def gamma(self, obs, index):\n",
    "        return self.smoothing(obs, index)\n",
    "    \n",
    "    def xi(self, obs, index):\n",
    "        alpha = self.alpha(obs[:index + 1])\n",
    "        beta_1 = self.beta(obs[index + 1:])\n",
    "        beta_2 = self.beta(obs[index + 2:])\n",
    "        return (np.transpose(self.trans) * alpha) * self.obs_prob[:, obs[index + 1]] * beta_2 / np.sum(alpha * beta_1)\n",
    "    \n",
    "    def baum_welsh(self, obs):\n",
    "        \n",
    "        gamma = np.array([self.gamma(obs, i) for i in range(len(obs))])\n",
    "        xi = np.array([self.xi(obs, i) for i in range(len(obs) - 1)])\n",
    "        delta, _ = self.delta(obs)\n",
    "        \n",
    "        self.initial = gamma[0]\n",
    "        self.trans = np.sum(xi, axis=0) / np.sum(gamma, axis=0)\n",
    "        self.trans /= np.repeat(np.expand_dims(self.trans.sum(axis=1), axis=1), self.trans.shape[1], axis=1)\n",
    "        \n",
    "        gamma_obs = np.repeat(np.expand_dims(gamma, axis=2), self.obs_prob.shape[1], 2)\n",
    "        for i in range(len(obs)):\n",
    "            gamma_obs[i, :, np.arange(self.obs_prob.shape[1]) != obs[i]] = 0\n",
    "        \n",
    "        self.obs_prob = np.sum(gamma_obs, axis=0) / np.sum(np.repeat(np.expand_dims(gamma, axis=2), self.obs_prob.shape[1], 2), axis=0)\n",
    "        self.obs_prob /= np.repeat(np.expand_dims(self.obs_prob.sum(axis=-1), axis=1), self.obs_prob.shape[1], axis=1)\n",
    "        \n",
    "        return gamma, xi, delta"
   ]
  },
  {
   "cell_type": "code",
   "execution_count": 267,
   "metadata": {},
   "outputs": [],
   "source": [
    "hmm = HMM()"
   ]
  },
  {
   "cell_type": "code",
   "execution_count": 269,
   "metadata": {},
   "outputs": [
    {
     "data": {
      "text/plain": [
       "[<matplotlib.lines.Line2D at 0x7f674dc7d588>]"
      ]
     },
     "execution_count": 269,
     "metadata": {},
     "output_type": "execute_result"
    },
    {
     "data": {
      "image/png": "[encoded data removed]",
      "text/plain": [
       "<matplotlib.figure.Figure at 0x7f674dcf6cf8>"
      ]
     },
     "metadata": {},
     "output_type": "display_data"
    }
   ],
   "source": [
    "last_scores = [0]\n",
    "while last_scores[-1] != hmm.forward(np.array([RED, GREEN, BLUE, BLUE])):\n",
    "    last_scores.append(hmm.forward(np.array([RED, GREEN, BLUE, BLUE])))\n",
    "    gamma, xi, delta = hmm.baum_welsh(np.array([RED, GREEN, BLUE, BLUE]))\n",
    "    \n",
    "fig = plt.figure()\n",
    "ax = plt.axes()\n",
    "ax.plot(np.arange(len(last_scores)), last_scores)"
   ]
  },
  {
   "cell_type": "code",
   "execution_count": null,
   "metadata": {},
   "outputs": [],
   "source": []
  },
  {
   "cell_type": "code",
   "execution_count": 235,
   "metadata": {},
   "outputs": [
    {
     "data": {
      "text/plain": [
       "array([0.15      , 0.06666667, 0.11666667, 0.06666667, 0.11666667,\n",
       "       0.15      , 0.11666667, 0.15      , 0.06666667])"
      ]
     },
     "execution_count": 235,
     "metadata": {},
     "output_type": "execute_result"
    }
   ],
   "source": [
    "hmm.smoothing([RED, GREEN, BLUE], 0)"
   ]
  },
  {
   "cell_type": "code",
   "execution_count": 218,
   "metadata": {
    "scrolled": true
   },
   "outputs": [
    {
     "data": {
      "text/plain": [
       "(array([[0.11111111, 0.11111111, 0.11111111, 0.11111111, 0.11111111,\n",
       "         0.11111111, 0.11111111, 0.11111111, 0.11111111],\n",
       "        [0.11111111, 0.11111111, 0.11111111, 0.11111111, 0.11111111,\n",
       "         0.11111111, 0.11111111, 0.11111111, 0.11111111],\n",
       "        [0.11111111, 0.11111111, 0.11111111, 0.11111111, 0.11111111,\n",
       "         0.11111111, 0.11111111, 0.11111111, 0.11111111],\n",
       "        [0.11111111, 0.11111111, 0.11111111, 0.11111111, 0.11111111,\n",
       "         0.11111111, 0.11111111, 0.11111111, 0.11111111],\n",
       "        [0.11111111, 0.11111111, 0.11111111, 0.11111111, 0.11111111,\n",
       "         0.11111111, 0.11111111, 0.11111111, 0.11111111],\n",
       "        [0.11111111, 0.11111111, 0.11111111, 0.11111111, 0.11111111,\n",
       "         0.11111111, 0.11111111, 0.11111111, 0.11111111],\n",
       "        [0.11111111, 0.11111111, 0.11111111, 0.11111111, 0.11111111,\n",
       "         0.11111111, 0.11111111, 0.11111111, 0.11111111],\n",
       "        [0.11111111, 0.11111111, 0.11111111, 0.11111111, 0.11111111,\n",
       "         0.11111111, 0.11111111, 0.11111111, 0.11111111],\n",
       "        [0.11111111, 0.11111111, 0.11111111, 0.11111111, 0.11111111,\n",
       "         0.11111111, 0.11111111, 0.11111111, 0.11111111]]),\n",
       " array([3.25818710e-01, 1.69917554e-06, 7.51292371e-03, 1.69917554e-06,\n",
       "        7.51292371e-03, 3.25818710e-01, 7.51292371e-03, 3.25818710e-01,\n",
       "        1.69917554e-06]),\n",
       " array([[0.1, 0.6, 0.3],\n",
       "        [0.8, 0.1, 0.1],\n",
       "        [0.1, 0.2, 0.7],\n",
       "        [0.8, 0.1, 0.1],\n",
       "        [0.1, 0.2, 0.7],\n",
       "        [0.1, 0.6, 0.3],\n",
       "        [0.1, 0.2, 0.7],\n",
       "        [0.1, 0.6, 0.3],\n",
       "        [0.8, 0.1, 0.1]]))"
      ]
     },
     "execution_count": 218,
     "metadata": {},
     "output_type": "execute_result"
    }
   ],
   "source": [
    "hmm.trans, hmm.initial, hmm.obs_prob"
   ]
  },
  {
   "cell_type": "code",
   "execution_count": 72,
   "metadata": {},
   "outputs": [
    {
     "data": {
      "text/plain": [
       "array([[0.1039384 , 0.4480308 , 0.        , 0.4480308 , 0.        ,\n",
       "        0.        , 0.        , 0.        , 0.        ],\n",
       "       [0.07957456, 0.68601895, 0.16058657, 0.        , 0.07381993,\n",
       "        0.        , 0.        , 0.        , 0.        ],\n",
       "       [0.        , 0.57179166, 0.2676954 , 0.        , 0.        ,\n",
       "        0.16051294, 0.        , 0.        , 0.        ],\n",
       "       [0.07957456, 0.        , 0.        , 0.68601895, 0.07381993,\n",
       "        0.        , 0.16058657, 0.        , 0.        ],\n",
       "       [0.        , 0.39040561, 0.        , 0.39040561, 0.        ,\n",
       "        0.10959439, 0.        , 0.10959439, 0.        ],\n",
       "       [0.        , 0.        , 0.19111879, 0.        , 0.08785526,\n",
       "        0.22919363, 0.        , 0.        , 0.49183231],\n",
       "       [0.        , 0.        , 0.        , 0.57179166, 0.        ,\n",
       "        0.        , 0.2676954 , 0.16051294, 0.        ],\n",
       "       [0.        , 0.        , 0.        , 0.        , 0.08785526,\n",
       "        0.        , 0.19111879, 0.22919363, 0.49183231],\n",
       "       [0.        , 0.        , 0.        , 0.        , 0.        ,\n",
       "        0.15893577, 0.        , 0.15893577, 0.68212845]])"
      ]
     },
     "execution_count": 72,
     "metadata": {},
     "output_type": "execute_result"
    }
   ],
   "source": [
    "hmm.trans "
   ]
  },
  {
   "cell_type": "code",
   "execution_count": 48,
   "metadata": {},
   "outputs": [],
   "source": [
    "hmm.obs_prob = np.array([[1, 0, 0], [1, 0, 0], [1, 0, 0]])[hmm.state_colors]"
   ]
  },
  {
   "cell_type": "code",
   "execution_count": 4,
   "metadata": {},
   "outputs": [
    {
     "data": {
      "text/plain": [
       "(6.400000000000001e-05, [8, 5, 5, 8, 8, 8])"
      ]
     },
     "execution_count": 4,
     "metadata": {},
     "output_type": "execute_result"
    }
   ],
   "source": [
    "hmm.viterbi(np.array([RED, GREEN, GREEN, RED, RED, RED]))"
   ]
  },
  {
   "cell_type": "code",
   "execution_count": 5,
   "metadata": {},
   "outputs": [
    {
     "data": {
      "text/plain": [
       "array([0.03333333, 0.26666667, 0.03333333, 0.26666667, 0.03333333,\n",
       "       0.03333333, 0.03333333, 0.03333333, 0.26666667])"
      ]
     },
     "execution_count": 5,
     "metadata": {},
     "output_type": "execute_result"
    }
   ],
   "source": [
    "hmm.filtering(np.array([RED]))"
   ]
  },
  {
   "cell_type": "code",
   "execution_count": 6,
   "metadata": {},
   "outputs": [
    {
     "data": {
      "text/plain": [
       "array([0.125     , 0.16666667, 0.04166667, 0.16666667, 0.04166667,\n",
       "       0.125     , 0.04166667, 0.125     , 0.16666667])"
      ]
     },
     "execution_count": 6,
     "metadata": {},
     "output_type": "execute_result"
    }
   ],
   "source": [
    "hmm.smoothing(np.array([RED, GREEN]), 0)"
   ]
  },
  {
   "cell_type": "code",
   "execution_count": null,
   "metadata": {},
   "outputs": [],
   "source": []
  },
  {
   "cell_type": "code",
   "execution_count": 424,
   "metadata": {},
   "outputs": [],
   "source": [
    "gamma_obs = np.repeat(np.expand_dims(gamma, axis=2), 5, 2)"
   ]
  },
  {
   "cell_type": "code",
   "execution_count": 426,
   "metadata": {},
   "outputs": [],
   "source": [
    "gamma_obs[:,:,2] = 0"
   ]
  },
  {
   "cell_type": "code",
   "execution_count": 427,
   "metadata": {},
   "outputs": [
    {
     "data": {
      "text/plain": [
       "array([[[0.32323232, 0.32323232, 0.        , 0.32323232, 0.32323232],\n",
       "        [0.00505051, 0.00505051, 0.        , 0.00505051, 0.00505051],\n",
       "        [0.00505051, 0.00505051, 0.        , 0.00505051, 0.00505051],\n",
       "        [0.00505051, 0.00505051, 0.        , 0.00505051, 0.00505051],\n",
       "        [0.00505051, 0.00505051, 0.        , 0.00505051, 0.00505051],\n",
       "        [0.32323232, 0.32323232, 0.        , 0.32323232, 0.32323232],\n",
       "        [0.00505051, 0.00505051, 0.        , 0.00505051, 0.00505051],\n",
       "        [0.32323232, 0.32323232, 0.        , 0.32323232, 0.32323232],\n",
       "        [0.00505051, 0.00505051, 0.        , 0.00505051, 0.00505051]],\n",
       "\n",
       "       [[0.36      , 0.36      , 0.        , 0.36      , 0.36      ],\n",
       "        [0.0275    , 0.0275    , 0.        , 0.0275    , 0.0275    ],\n",
       "        [0.0275    , 0.0275    , 0.        , 0.0275    , 0.0275    ],\n",
       "        [0.0275    , 0.0275    , 0.        , 0.0275    , 0.0275    ],\n",
       "        [0.045     , 0.045     , 0.        , 0.045     , 0.045     ],\n",
       "        [0.22      , 0.22      , 0.        , 0.22      , 0.22      ],\n",
       "        [0.0275    , 0.0275    , 0.        , 0.0275    , 0.0275    ],\n",
       "        [0.22      , 0.22      , 0.        , 0.22      , 0.22      ],\n",
       "        [0.045     , 0.045     , 0.        , 0.045     , 0.045     ]]])"
      ]
     },
     "execution_count": 427,
     "metadata": {},
     "output_type": "execute_result"
    }
   ],
   "source": [
    "gamma_obs"
   ]
  },
  {
   "cell_type": "code",
   "execution_count": 410,
   "metadata": {},
   "outputs": [
    {
     "data": {
      "text/plain": [
       "0.002256882843813654"
      ]
     },
     "execution_count": 410,
     "metadata": {},
     "output_type": "execute_result"
    }
   ],
   "source": [
    "hmm.forward(np.array([RED]))"
   ]
  },
  {
   "cell_type": "code",
   "execution_count": 99,
   "metadata": {},
   "outputs": [
    {
     "data": {
      "text/plain": [
       "array([[ 5,  0],\n",
       "       [10,  0]])"
      ]
     },
     "execution_count": 99,
     "metadata": {},
     "output_type": "execute_result"
    }
   ],
   "source": [
    "np.array([5,1]) * np.array([[1,0], [2,0]]) "
   ]
  },
  {
   "cell_type": "code",
   "execution_count": null,
   "metadata": {},
   "outputs": [],
   "source": []
  }
 ],
 "metadata": {
  "kernelspec": {
   "display_name": "Python 3",
   "language": "python",
   "name": "python3"
  },
  "language_info": {
   "codemirror_mode": {
    "name": "ipython",
    "version": 3
   },
   "file_extension": ".py",
   "mimetype": "text/x-python",
   "name": "python",
   "nbconvert_exporter": "python",
   "pygments_lexer": "ipython3",
   "version": "3.5.2"
  }
 },
 "nbformat": 4,
 "nbformat_minor": 2
}
